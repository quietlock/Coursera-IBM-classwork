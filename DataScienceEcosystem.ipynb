{
 "cells": [
  {
   "cell_type": "markdown",
   "id": "f60e3213-ee99-444c-b9e8-006966325671",
   "metadata": {},
   "source": [
    "# Data Science Tools and Ecosystem"
   ]
  },
  {
   "cell_type": "markdown",
   "id": "db920e48-90bf-49f1-b746-bd945a27582f",
   "metadata": {},
   "source": [
    "In this notebook, Data Science Tools and Ecosystem are summarized."
   ]
  },
  {
   "cell_type": "markdown",
   "id": "45acb341-30bc-4e26-a709-dc273c0ac05e",
   "metadata": {},
   "source": [
    "Some of the popular languages that Data Scientists use are:\n",
    "1. Python\n",
    "2. Java\n",
    "3. PHP"
   ]
  },
  {
   "cell_type": "markdown",
   "id": "4c3b1348-f00f-4c55-a478-9ca4dc3f948e",
   "metadata": {},
   "source": [
    "Some of the commonly used libraries used by Data Scientists include:\n",
    "1. Numpy\n",
    "2. Pandas\n",
    "3. Scipy"
   ]
  },
  {
   "cell_type": "markdown",
   "id": "dac77305-7548-41ea-ae79-81d209a103f3",
   "metadata": {},
   "source": [
    "|Data Science Tools|\n",
    "|-|\n",
    "|Matplotlib|\n",
    "|Sci-Kit Learn|\n",
    "|Numpy|"
   ]
  },
  {
   "cell_type": "markdown",
   "id": "c179179e-d4ac-4b3c-be8c-2f31410405af",
   "metadata": {},
   "source": [
    "### Below are a few examples of evaluating arithmetic expressions in Python"
   ]
  },
  {
   "cell_type": "code",
   "execution_count": 1,
   "id": "41d0113f-cd1d-4e8e-bfcb-99f8c15ac851",
   "metadata": {},
   "outputs": [
    {
     "data": {
      "text/plain": [
       "17"
      ]
     },
     "execution_count": 1,
     "metadata": {},
     "output_type": "execute_result"
    }
   ],
   "source": [
    "# This a simple arithmetic expression to mutiply then add integers\n",
    "(3*4)+5"
   ]
  },
  {
   "cell_type": "code",
   "execution_count": 2,
   "id": "72c4b24a-6d71-4121-8efa-ee5c8a9fa6c5",
   "metadata": {},
   "outputs": [
    {
     "data": {
      "text/plain": [
       "3.3333333333333335"
      ]
     },
     "execution_count": 2,
     "metadata": {},
     "output_type": "execute_result"
    }
   ],
   "source": [
    "# This will convert 200 minutes to hours by diving by 60\n",
    "200/60"
   ]
  },
  {
   "cell_type": "markdown",
   "id": "5e637209-b55c-4d84-be55-214ca24f4771",
   "metadata": {},
   "source": [
    "**Objectives:**\n",
    "- Python\n",
    "- java\n",
    "- R\n",
    "- C\n",
    "- C++"
   ]
  },
  {
   "cell_type": "markdown",
   "id": "3a8137a7-48b5-4cd4-99f8-58e752ad0084",
   "metadata": {},
   "source": [
    "## Author\n",
    "Junye Zhang"
   ]
  },
  {
   "cell_type": "code",
   "execution_count": null,
   "id": "16721521-f4b2-4b1d-9558-e81f8049e9f3",
   "metadata": {},
   "outputs": [],
   "source": []
  }
 ],
 "metadata": {
  "kernelspec": {
   "display_name": "Python",
   "language": "python",
   "name": "conda-env-python-py"
  },
  "language_info": {
   "codemirror_mode": {
    "name": "ipython",
    "version": 3
   },
   "file_extension": ".py",
   "mimetype": "text/x-python",
   "name": "python",
   "nbconvert_exporter": "python",
   "pygments_lexer": "ipython3",
   "version": "3.7.12"
  }
 },
 "nbformat": 4,
 "nbformat_minor": 5
}
